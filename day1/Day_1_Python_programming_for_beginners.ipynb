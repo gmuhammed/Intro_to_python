{
  "cells": [
    {
      "cell_type": "markdown",
      "metadata": {
        "id": "view-in-github",
        "colab_type": "text"
      },
      "source": [
        "<a href=\"https://colab.research.google.com/github/gmuhammed/Intro_to_python/blob/main/day1/Day_1_Python_programming_for_beginners.ipynb\" target=\"_parent\"><img src=\"https://colab.research.google.com/assets/colab-badge.svg\" alt=\"Open In Colab\"/></a>"
      ]
    },
    {
      "cell_type": "markdown",
      "source": [
        "Python is a high level programming language with numerous applications. "
      ],
      "metadata": {
        "id": "SnVK0R5pgOEr"
      }
    },
    {
      "cell_type": "markdown",
      "source": [
        "**Why python ?**\n",
        "* versatilility: data science, Scripting and automation, Machine Learning, Web  Development etc.\n",
        "* range of libraries, packages, frameworks, and modules\n",
        "* massive active Community\n",
        "* easy to understand and learn\n",
        "* Improve your job prospects\n",
        "                 "
      ],
      "metadata": {
        "id": "9n9ojJDVdhDv"
      }
    },
    {
      "cell_type": "code",
      "source": [
        "print(\"Hello world\")"
      ],
      "metadata": {
        "id": "QkCNAU5BjhiZ"
      },
      "execution_count": null,
      "outputs": []
    },
    {
      "cell_type": "code",
      "source": [
        "print(4 + 5)\n",
        "print(5 + 6 - 7)"
      ],
      "metadata": {
        "id": "o_dE9pzMjvee"
      },
      "execution_count": null,
      "outputs": []
    },
    {
      "cell_type": "markdown",
      "source": [
        "### Python primitive data type:"
      ],
      "metadata": {
        "id": "mD1Or1dzfxMx"
      }
    },
    {
      "cell_type": "markdown",
      "source": [
        "Integers are positive or negative whole numbers without a fractional part, that is they have no decimal part e.g. 20, 0, -9"
      ],
      "metadata": {
        "id": "lZRsQuJUj9m3"
      }
    },
    {
      "cell_type": "code",
      "source": [
        "type(4)"
      ],
      "metadata": {
        "id": "ZXVzTp1clQyV"
      },
      "execution_count": null,
      "outputs": []
    },
    {
      "cell_type": "markdown",
      "source": [
        "Floating point or float for short are numbers with fractional part e.g. 2.8, 5.789, 7.95737"
      ],
      "metadata": {
        "id": "NJir79JVkqdD"
      }
    },
    {
      "cell_type": "code",
      "source": [
        "type(2.8)"
      ],
      "metadata": {
        "id": "foH5poO_-XSN"
      },
      "execution_count": null,
      "outputs": []
    },
    {
      "cell_type": "markdown",
      "source": [
        "Strings are sequence of characters. They are created by enclosing characters inside a single quote or double-quotes. e.g \"Sola\", 'Peace', '100 Kg', \"The boy is running fast\". \n",
        "\n",
        "Note: You must be consistent with the quotes.\n",
        "\"Great'  X\n",
        "'The queen\"  X"
      ],
      "metadata": {
        "id": "KWxDUzeBlSV1"
      }
    },
    {
      "cell_type": "code",
      "source": [
        "type(\"rest\")"
      ],
      "metadata": {
        "id": "AqExSvaG-bh0"
      },
      "execution_count": null,
      "outputs": []
    },
    {
      "cell_type": "markdown",
      "source": [
        "Boolean has only 2 values: True or False"
      ],
      "metadata": {
        "id": "RFvvJdqvmZ3z"
      }
    },
    {
      "cell_type": "code",
      "execution_count": null,
      "metadata": {
        "id": "qCwkgSvH5q2p"
      },
      "outputs": [],
      "source": [
        "type(True)"
      ]
    },
    {
      "cell_type": "markdown",
      "source": [
        "**Variables**\n",
        "* variable name must start with  an alphabet\n",
        "* variable name can contain alphabet, numbers and underscore"
      ],
      "metadata": {
        "id": "Ob2nZCqr-hoK"
      }
    },
    {
      "cell_type": "code",
      "execution_count": null,
      "metadata": {
        "id": "HWds0Rb75q64"
      },
      "outputs": [],
      "source": [
        "#sample correct variable names\n",
        "\n"
      ]
    },
    {
      "cell_type": "code",
      "execution_count": null,
      "metadata": {
        "id": "o7aIZZoE5q_o"
      },
      "outputs": [],
      "source": [
        "#sample incorrect variable names\n",
        "\n"
      ]
    },
    {
      "cell_type": "code",
      "source": [
        "x = 4\n",
        "print(x + 5)\n",
        "print(x - 7)\n",
        "print(x * -10)\n",
        "print(x / 3)"
      ],
      "metadata": {
        "id": "YJyOxKWs_XHZ"
      },
      "execution_count": null,
      "outputs": []
    },
    {
      "cell_type": "markdown",
      "source": [
        "Note: division operation between 2 integers will result into floating point number"
      ],
      "metadata": {
        "id": "KP2NqizJAHRR"
      }
    },
    {
      "cell_type": "code",
      "source": [
        "y = 3.4\n",
        "print(y + 20.67)\n",
        "print(x - 7.8)\n",
        "print(x * 2.3)\n",
        "print(x / 5.9)"
      ],
      "metadata": {
        "id": "uPyLQrvx_XUZ"
      },
      "execution_count": null,
      "outputs": []
    },
    {
      "cell_type": "markdown",
      "source": [
        "logical operators :\n",
        "* <, >, ==, !=\n",
        "* and, or, not"
      ],
      "metadata": {
        "id": "cWJBBnpoB44J"
      }
    },
    {
      "cell_type": "code",
      "source": [
        "#comment are used to add context to our code"
      ],
      "metadata": {
        "id": "WZ5ose6q_XZN"
      },
      "execution_count": null,
      "outputs": []
    },
    {
      "cell_type": "markdown",
      "source": [
        "if/else statement"
      ],
      "metadata": {
        "id": "vEALOVtQAkND"
      }
    },
    {
      "cell_type": "code",
      "source": [
        "a = 33\n",
        "b = 200\n",
        "if b > a:\n",
        "  print(\"b is greater than a\")"
      ],
      "metadata": {
        "id": "7jnyzMiNAjHo"
      },
      "execution_count": null,
      "outputs": []
    },
    {
      "cell_type": "code",
      "source": [
        ""
      ],
      "metadata": {
        "id": "Lckzs__KAjTA"
      },
      "execution_count": null,
      "outputs": []
    },
    {
      "cell_type": "code",
      "source": [
        "num1 = 33\n",
        "num2 = 200\n",
        "if num2 > num1:\n",
        "  print(\"num2 is greater than num1\")\n",
        "else:\n",
        "  print(\"num2 is less than num1\")"
      ],
      "metadata": {
        "id": "TCYfY544Aja2"
      },
      "execution_count": null,
      "outputs": []
    },
    {
      "cell_type": "code",
      "source": [
        "#input from user and print out the number"
      ],
      "metadata": {
        "id": "0nL-nT5kGqu7"
      },
      "execution_count": null,
      "outputs": []
    },
    {
      "cell_type": "code",
      "source": [
        "#if elif else #grade_system\n",
        "# passed if grade is greater than 50\n",
        "# average if grade is equals 50 \n",
        "# failed if grade is less than 50"
      ],
      "metadata": {
        "id": "aQ8GJOqOF4-w"
      },
      "execution_count": null,
      "outputs": []
    },
    {
      "cell_type": "code",
      "source": [
        "a = 200\n",
        "b = 33\n",
        "c = 500\n",
        "if a > b and c > a:\n",
        "  print(\"Both conditions are True\")"
      ],
      "metadata": {
        "id": "tCyeWabjEduy"
      },
      "execution_count": null,
      "outputs": []
    },
    {
      "cell_type": "code",
      "source": [
        "#Day 1 prject\n",
        "#create a program that takes user input and print out whether the number is greater than 5 or not"
      ],
      "metadata": {
        "id": "APDawXm6E7pW"
      },
      "execution_count": null,
      "outputs": []
    },
    {
      "cell_type": "code",
      "source": [
        "#Day1 Assignment\n",
        "#create a program that takes 2 user input and print out whether the first number is greater than second or not"
      ],
      "metadata": {
        "id": "S0QjecobFWSy"
      },
      "execution_count": null,
      "outputs": []
    },
    {
      "cell_type": "code",
      "source": [
        "#send your answer to dsn_iseyin@datasciencenigeria.ai using day1 as subject"
      ],
      "metadata": {
        "id": "IVWcu8cnMxgn"
      },
      "execution_count": null,
      "outputs": []
    }
  ],
  "metadata": {
    "colab": {
      "name": "Day 1 Python programming for beginners.ipynb",
      "provenance": [],
      "authorship_tag": "ABX9TyPi8Y1QxM0sSJxe5Y20QnMP",
      "include_colab_link": true
    },
    "kernelspec": {
      "display_name": "Python 3",
      "name": "python3"
    },
    "language_info": {
      "name": "python"
    }
  },
  "nbformat": 4,
  "nbformat_minor": 0
}